{
 "cells": [
  {
   "cell_type": "code",
   "execution_count": null,
   "metadata": {},
   "outputs": [
    {
     "name": "stdout",
     "output_type": "stream",
     "text": [
      "True\n"
     ]
    }
   ],
   "source": [
    "from flask import Flask, jsonify, request\n",
    "\n",
    "app = Flask(__name__)\n",
    "\n",
    "class Movie:\n",
    "    def __init__(self,name,price):\n",
    "        self.name = name\n",
    "        self.price = price\n",
    "        self.booked = []\n",
    "\n",
    "\n",
    "class Cinema:\n",
    "    def __init__(self):\n",
    "        self.movies = []\n",
    "\n",
    "    def add_movie(self, name, price):\n",
    "        if name not in self.movies:\n",
    "            self.movies.append(Movie(name, price))\n",
    "\n",
    "    def get_total(self):\n",
    "        pass\n",
    "\n",
    "\n",
    "\n",
    "class User:\n",
    "    def __init__(self,name,password):\n",
    "        self.name = name\n",
    "        self.password = password\n",
    "\n",
    "\n",
    "\n",
    "users = {}\n",
    "\n",
    "@app.route('/get_user')\n",
    "def get_user():\n",
    "    username = request.args.get('username')\n",
    "    if username in users.keys():\n",
    "        return jsonify(True)\n",
    "    else:\n",
    "        return jsonify(False)\n",
    "\n",
    "@app.route('/add_user')\n",
    "def add_user():\n",
    "    username = request.args.get('username')\n",
    "    password = request.args.get('password')\n",
    "    users[username] = User(username, password)\n",
    "    return \n",
    "\n",
    "@app.route('/check_password')\n",
    "def check_password():\n",
    "    username = request.args.get('username')\n",
    "    password = request.args.get('password')\n",
    "    if users[username].password == password:\n",
    "        return jsonify(True)\n",
    "    else:\n",
    "        return jsonify(False)"
   ]
  },
  {
   "cell_type": "code",
   "execution_count": 7,
   "metadata": {},
   "outputs": [
    {
     "name": "stdout",
     "output_type": "stream",
     "text": [
      "true\n",
      "\n",
      "\"added\"\n",
      "\n",
      "false\n",
      "\n"
     ]
    }
   ],
   "source": [
    "import requests\n",
    "print(requests.get('http://viollenaki.pythonanywhere.com/get_user?username=123').text)\n",
    "print(requests.get('http://viollenaki.pythonanywhere.com/add_user?username=123&password=123').text)\n",
    "print(requests.get('http://viollenaki.pythonanywhere.com/check_password?username=123&password=12').text)"
   ]
  },
  {
   "cell_type": "code",
   "execution_count": 17,
   "metadata": {},
   "outputs": [
    {
     "name": "stdout",
     "output_type": "stream",
     "text": [
      "False\n"
     ]
    }
   ],
   "source": [
    "response = requests.get('http://viollenaki.pythonanywhere.com/get_user', json={'username': 'akbar'})\n",
    "if response.json() == False:\n",
    "    print(False)\n",
    "else:\n",
    "    print(True)"
   ]
  },
  {
   "cell_type": "code",
   "execution_count": 32,
   "metadata": {},
   "outputs": [
    {
     "data": {
      "text/plain": [
       "{'2024-12-15': []}"
      ]
     },
     "execution_count": 32,
     "metadata": {},
     "output_type": "execute_result"
    }
   ],
   "source": [
    "class Movie:\n",
    "    def __init__(self,name,price, date):\n",
    "        self.name = name\n",
    "        self.price = price\n",
    "        self.date = date\n",
    "        self.booked = []\n",
    "\n",
    "\n",
    "class Cinema:\n",
    "    def __init__(self):\n",
    "        self.movies = []\n",
    "\n",
    "    def add_movie(self, name, price,date):\n",
    "        if name not in self.movies:\n",
    "            self.movies.append(Movie(name, price, date))\n",
    "\n",
    "    def get_total(self):\n",
    "        pass\n",
    "    \n",
    "    def get_movies(self):\n",
    "        films = {}\n",
    "        for i in self.movies:\n",
    "            films[i.name] = [i.price, i.date, i.booked]\n",
    "        return films\n",
    "    def get_movie_seances(self, movie):\n",
    "        seances = {}\n",
    "        for i in self.movies:\n",
    "            if i.name == movie:\n",
    "                seances[i.date] = i.booked\n",
    "        return seances\n",
    "\n",
    "\n",
    "\n",
    "\n",
    "\n",
    "cosmopark = Cinema()\n",
    "cosmopark.add_movie(\"Inception\", 10, \"2024-12-15\")\n",
    "cosmopark.add_movie(\"Interstellar\", 12, \"2024-12-20\")\n",
    "cosmopark.add_movie(\"The Dark Knight\", 9, \"2024-12-22\")\n",
    "cosmopark.get_movies()\n",
    "cosmopark.get_movie_seances(\"Inception\")"
   ]
  },
  {
   "cell_type": "code",
   "execution_count": 33,
   "metadata": {},
   "outputs": [
    {
     "name": "stdout",
     "output_type": "stream",
     "text": [
      "2024-12-15\n"
     ]
    }
   ],
   "source": [
    "response = requests.get('http://viollenaki.pythonanywhere.com/get_seances?film=Inception').json()\n",
    "arr = []\n",
    "\n",
    "print('\\n'.join(response.keys()))\n",
    "    "
   ]
  },
  {
   "cell_type": "code",
   "execution_count": 1,
   "metadata": {},
   "outputs": [
    {
     "name": "stdout",
     "output_type": "stream",
     "text": [
      "Selected item: Film 1\n",
      "Film 1\n",
      "Selected item: Film 2\n",
      "Film 2\n",
      "Selected item: Film 4\n",
      "Film 4\n"
     ]
    },
    {
     "ename": "SystemExit",
     "evalue": "0",
     "output_type": "error",
     "traceback": [
      "An exception has occurred, use %tb to see the full traceback.\n",
      "\u001b[1;31mSystemExit\u001b[0m\u001b[1;31m:\u001b[0m 0\n"
     ]
    },
    {
     "name": "stderr",
     "output_type": "stream",
     "text": [
      "C:\\Users\\User\\AppData\\Roaming\\Python\\Python39\\site-packages\\IPython\\core\\interactiveshell.py:3558: UserWarning: To exit: use 'exit', 'quit', or Ctrl-D.\n",
      "  warn(\"To exit: use 'exit', 'quit', or Ctrl-D.\", stacklevel=1)\n"
     ]
    }
   ],
   "source": [
    "from PyQt5.QtWidgets import QMainWindow, QListWidget, QVBoxLayout, QWidget, QApplication\n",
    "import sys\n",
    "\n",
    "class MyWindow(QMainWindow):\n",
    "    def __init__(self):\n",
    "        super().__init__()\n",
    "        self.film_now = \"\"\n",
    "        self.setWindowTitle(\"Selection Changed Example\")\n",
    "        self.setGeometry(100, 100, 400, 200)\n",
    "\n",
    "        self.central_widget = QWidget(self)\n",
    "        self.setCentralWidget(self.central_widget)\n",
    "\n",
    "        self.layout = QVBoxLayout(self.central_widget)\n",
    "\n",
    "        # Создаем QListWidget\n",
    "        self.list_widget = QListWidget(self)\n",
    "        self.layout.addWidget(self.list_widget)\n",
    "\n",
    "        # Добавляем элементы в QListWidget\n",
    "        self.list_widget.addItems([\"Film 1\", \"Film 2\", \"Film 3\", \"Film 4\"])\n",
    "\n",
    "        # Подключаем сигнал selectionChanged к методу\n",
    "        self.list_widget.itemDoubleClicked.connect(self.selection_changed)\n",
    "\n",
    "    def selection_changed(self):\n",
    "        selected_items = self.list_widget.selectedItems()\n",
    "        self.film_now = selected_items[0].text()\n",
    "        if selected_items:\n",
    "            selected_text = selected_items[0].text()  # Получаем текст выбранного элемента\n",
    "            print(f\"Selected item: {selected_text}\")\n",
    "            print(self.film_now)\n",
    "        else:\n",
    "            print(\"No item selected\")\n",
    "\n",
    "if __name__ == \"__main__\":\n",
    "    app = QApplication(sys.argv)\n",
    "    window = MyWindow()\n",
    "    window.show()\n",
    "    sys.exit(app.exec_())\n"
   ]
  },
  {
   "cell_type": "code",
   "execution_count": 5,
   "metadata": {},
   "outputs": [
    {
     "name": "stdout",
     "output_type": "stream",
     "text": [
      "29\n"
     ]
    }
   ],
   "source": [
    "total = 0\n",
    "word = 'akbar'\n",
    "for i in range(len(word)):\n",
    "    total += (ord(word[i])*31**i)\n",
    "\n",
    "print((total)%97)"
   ]
  },
  {
   "cell_type": "code",
   "execution_count": null,
   "metadata": {},
   "outputs": [],
   "source": [
    "class Movie:\n",
    "    def __init__(self, name, price, date):\n",
    "        self.name = name\n",
    "        self.price = price\n",
    "        self.date = date\n",
    "        self.booked = []  # Список забронированных мест\n",
    "\n",
    "\n",
    "class Cinema:\n",
    "    def __init__(self):\n",
    "        self.movies = {}  # Словарь фильмов: ключ - имя фильма, значение - объект Movie\n",
    "        self.history = []  # История бронирований: (имя пользователя, фильм, сеанс)\n",
    "\n",
    "    def add_movie(self, name, price, date):\n",
    "        # Добавляем фильм, если его еще нет в кинотеатре\n",
    "        if name not in self.movies:\n",
    "            self.movies[name] = Movie(name, price, date)\n",
    "\n",
    "    def get_total(self):\n",
    "        # Метод, который можно использовать для вычисления общей суммы бронирований\n",
    "        total = 0\n",
    "        for movie in self.movies.values():\n",
    "            total += len(movie.booked) * movie.price\n",
    "        return total\n",
    "\n",
    "    def get_movies(self):\n",
    "        # Возвращаем информацию о фильмах\n",
    "        films = {}\n",
    "        for movie in self.movies.values():\n",
    "            films[movie.name] = [movie.price, movie.date, movie.booked]\n",
    "        return films\n",
    "\n",
    "    def get_movie_seances(self, movie_name):\n",
    "        # Возвращаем информацию о сеансах для конкретного фильма\n",
    "        if movie_name in self.movies:\n",
    "            movie = self.movies[movie_name]\n",
    "            return {movie.date: movie.booked}\n",
    "        return {}\n",
    "\n",
    "    def booking(self, name, movie_name, seats):\n",
    "        # Бронирование мест на фильм\n",
    "        if movie_name in self.movies:\n",
    "            movie = self.movies[movie_name]\n",
    "            movie.booked.extend(seats)  # Добавляем места в забронированные\n",
    "            self.history.append((name, movie_name, movie.date))  # Добавляем запись в историю бронирований\n",
    "            return f\"Бронирование на {seats} места для фильма {movie_name} успешно!\"\n",
    "        else:\n",
    "            return f\"Фильм {movie_name} не найден.\"\n",
    "\n",
    "    def get_user_history(self, name):\n",
    "        # Получение истории бронирований пользователя\n",
    "        arr = []\n",
    "        for n, movie_name, seance in self.history:\n",
    "            if n == name:\n",
    "                arr.append((movie_name, seance))\n",
    "        return arr\n"
   ]
  },
  {
   "cell_type": "code",
   "execution_count": null,
   "metadata": {},
   "outputs": [
    {
     "name": "stdout",
     "output_type": "stream",
     "text": [
      "[('Avatar', '12:30')]\n"
     ]
    }
   ],
   "source": [
    "from collections import defaultdict\n",
    "class Movie:\n",
    "    def __init__(self, name, price):\n",
    "        self.name = name\n",
    "        self.price = price\n",
    "        self.seances= {}\n",
    "\n",
    "    def add_seance(self, date):\n",
    "        if date not in self.seances:\n",
    "            self.seances[date] = []\n",
    "            \n",
    "    def add_booking(self,date, seats):\n",
    "        self.seances[date].extend(seats)\n",
    "        \n",
    "\n",
    "class Cinema:\n",
    "    def __init__(self):\n",
    "        self.movies = {}  # Словарь фильмов\n",
    "        self.history = []  # История бронирований\n",
    "\n",
    "    def add_movie(self, name, price, date):\n",
    "        if name not in self.movies:\n",
    "            self.movies[name] = Movie(name, price)\n",
    "        self.movies[name].add_seance(date)\n",
    "        return True\n",
    "\n",
    "    def get_movies(self):\n",
    "        films = {}\n",
    "        for movie in self.movies.values():\n",
    "            films[movie.name] = [movie.price, movie.seances]\n",
    "        return films\n",
    "\n",
    "    def get_movie_seances(self, movie_name):\n",
    "        return self.movies[movie_name].seances\n",
    "\n",
    "\n",
    "    def booking(self, name, movie_name, date, seats):\n",
    "        self.movies[movie_name].add_booking(date, seats)\n",
    "        self.history.append((name,movie_name, date))\n",
    "        return True\n",
    "\n",
    "    def get_user_history(self, name):\n",
    "        arr = []\n",
    "        for n, movie_name, seance in self.history:\n",
    "            if n == name:\n",
    "                arr.append((movie_name, seance)) \n",
    "        return arr\n",
    "\n",
    "\n",
    "cinema = Cinema()\n",
    "cinema.add_movie('Avatar',600,'12:30')\n",
    "cinema.booking('akbar', 'Avatar', '12:30', ['a1','a2','a3'])\n",
    "print(cinema.get_user_history('akbar'))\n",
    "\n"
   ]
  }
 ],
 "metadata": {
  "kernelspec": {
   "display_name": "Python 3",
   "language": "python",
   "name": "python3"
  },
  "language_info": {
   "codemirror_mode": {
    "name": "ipython",
    "version": 3
   },
   "file_extension": ".py",
   "mimetype": "text/x-python",
   "name": "python",
   "nbconvert_exporter": "python",
   "pygments_lexer": "ipython3",
   "version": "3.9.0"
  }
 },
 "nbformat": 4,
 "nbformat_minor": 2
}
