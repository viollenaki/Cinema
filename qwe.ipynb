{
 "cells": [
  {
   "cell_type": "code",
   "execution_count": null,
   "metadata": {},
   "outputs": [
    {
     "name": "stdout",
     "output_type": "stream",
     "text": [
      "True\n"
     ]
    }
   ],
   "source": [
    "from flask import Flask, jsonify, request\n",
    "\n",
    "app = Flask(__name__)\n",
    "\n",
    "class Movie:\n",
    "    def __init__(self,name,price):\n",
    "        self.name = name\n",
    "        self.price = price\n",
    "        self.booked = []\n",
    "\n",
    "\n",
    "class Cinema:\n",
    "    def __init__(self):\n",
    "        self.movies = []\n",
    "\n",
    "    def add_movie(self, name, price):\n",
    "        if name not in self.movies:\n",
    "            self.movies.append(Movie(name, price))\n",
    "\n",
    "    def get_total(self):\n",
    "        pass\n",
    "\n",
    "\n",
    "\n",
    "class User:\n",
    "    def __init__(self,name,password):\n",
    "        self.name = name\n",
    "        self.password = password\n",
    "\n",
    "\n",
    "\n",
    "users = {}\n",
    "\n",
    "@app.route('/get_user')\n",
    "def get_user():\n",
    "    username = request.args.get('username')\n",
    "    if username in users.keys():\n",
    "        return jsonify(True)\n",
    "    else:\n",
    "        return jsonify(False)\n",
    "\n",
    "@app.route('/add_user')\n",
    "def add_user():\n",
    "    username = request.args.get('username')\n",
    "    password = request.args.get('password')\n",
    "    users[username] = User(username, password)\n",
    "    return \n",
    "\n",
    "@app.route('/check_password')\n",
    "def check_password():\n",
    "    username = request.args.get('username')\n",
    "    password = request.args.get('password')\n",
    "    if users[username].password == password:\n",
    "        return jsonify(True)\n",
    "    else:\n",
    "        return jsonify(False)"
   ]
  },
  {
   "cell_type": "code",
   "execution_count": 7,
   "metadata": {},
   "outputs": [
    {
     "name": "stdout",
     "output_type": "stream",
     "text": [
      "true\n",
      "\n",
      "\"added\"\n",
      "\n",
      "false\n",
      "\n"
     ]
    }
   ],
   "source": [
    "import requests\n",
    "print(requests.get('http://viollenaki.pythonanywhere.com/get_user?username=123').text)\n",
    "print(requests.get('http://viollenaki.pythonanywhere.com/add_user?username=123&password=123').text)\n",
    "print(requests.get('http://viollenaki.pythonanywhere.com/check_password?username=123&password=12').text)"
   ]
  },
  {
   "cell_type": "code",
   "execution_count": 17,
   "metadata": {},
   "outputs": [
    {
     "name": "stdout",
     "output_type": "stream",
     "text": [
      "False\n"
     ]
    }
   ],
   "source": [
    "response = requests.get('http://viollenaki.pythonanywhere.com/get_user', json={'username': 'akbar'})\n",
    "if response.json() == False:\n",
    "    print(False)\n",
    "else:\n",
    "    print(True)"
   ]
  }
 ],
 "metadata": {
  "kernelspec": {
   "display_name": "Python 3",
   "language": "python",
   "name": "python3"
  },
  "language_info": {
   "codemirror_mode": {
    "name": "ipython",
    "version": 3
   },
   "file_extension": ".py",
   "mimetype": "text/x-python",
   "name": "python",
   "nbconvert_exporter": "python",
   "pygments_lexer": "ipython3",
   "version": "3.9.0"
  }
 },
 "nbformat": 4,
 "nbformat_minor": 2
}
