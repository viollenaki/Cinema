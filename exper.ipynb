{
 "cells": [
  {
   "cell_type": "code",
   "execution_count": 13,
   "metadata": {},
   "outputs": [
    {
     "name": "stdout",
     "output_type": "stream",
     "text": [
      "['avatar']\n",
      "[\"2018-01-01\",\"2018-02-01\",\"2018-01-03\"]\n",
      "\n"
     ]
    }
   ],
   "source": [
    "import requests\n",
    "\n",
    "requests.get('http://viollenaki.pythonanywhere.com/add_movie?movie=avatar&seance=2018-01-01&price=100')\n",
    "\n",
    "requests.get('http://viollenaki.pythonanywhere.com/add_movie?movie=avatar&seance=2018-02-01&price=100')\n",
    "\n",
    "requests.get('http://viollenaki.pythonanywhere.com/add_movie?movie=avatar&seance=2018-01-03&price=100')\n",
    "print(requests.get('http://viollenaki.pythonanywhere.com/get_movies').json())\n",
    "print(requests.get('http://viollenaki.pythonanywhere.com/get_movie_seances?movie=avatar').text)\n",
    "\n"
   ]
  },
  {
   "cell_type": "code",
   "execution_count": 70,
   "metadata": {},
   "outputs": [
    {
     "name": "stdout",
     "output_type": "stream",
     "text": [
      "booked\n"
     ]
    }
   ],
   "source": [
    "import requests\n",
    "print(requests.get('http://viollenaki.pythonanywhere.com/movie_seance_booking?user=akbar&movie=avatar&seance=2018-01-01&seats=a1,b2,c3').json())"
   ]
  },
  {
   "cell_type": "code",
   "execution_count": 71,
   "metadata": {},
   "outputs": [
    {
     "name": "stdout",
     "output_type": "stream",
     "text": [
      "['a1', 'b2', 'c3']\n",
      "100.0\n"
     ]
    }
   ],
   "source": [
    "response = requests.get('http://viollenaki.pythonanywhere.com/get_movie_booked_seats?movie=avatar&seance=2018-01-01').json()\n",
    "print(response)\n",
    "print(requests.get('http://viollenaki.pythonanywhere.com/get_movie_price?movie=avatar').json())\n"
   ]
  },
  {
   "cell_type": "code",
   "execution_count": 15,
   "metadata": {},
   "outputs": [
    {
     "data": {
      "text/plain": [
       "<Response [200]>"
      ]
     },
     "execution_count": 15,
     "metadata": {},
     "output_type": "execute_result"
    }
   ],
   "source": [
    "requests.get('http://viollenaki.pythonanywhere.com/add_movie?movie=avatar&seance=2018-01-01&price=1000')\n"
   ]
  },
  {
   "cell_type": "code",
   "execution_count": 16,
   "metadata": {},
   "outputs": [
    {
     "name": "stdout",
     "output_type": "stream",
     "text": [
      "11000.0\n"
     ]
    }
   ],
   "source": [
    "print(requests.get('http://viollenaki.pythonanywhere.com/get_movie_profit?movie=avatar').json())\n"
   ]
  },
  {
   "cell_type": "code",
   "execution_count": 20,
   "metadata": {},
   "outputs": [
    {
     "name": "stdout",
     "output_type": "stream",
     "text": [
      "0\n"
     ]
    }
   ],
   "source": [
    "import requests\n",
    "print(requests.get('http://viollenaki.pythonanywhere.com/get_seance_profit?movie=avatar&seance=2018-02-01').json())"
   ]
  },
  {
   "cell_type": "code",
   "execution_count": 2,
   "metadata": {},
   "outputs": [
    {
     "name": "stdout",
     "output_type": "stream",
     "text": [
      "32000.0\n"
     ]
    }
   ],
   "source": [
    "import requests\n",
    "movie_total = 'avatar'\n",
    "print(requests.get('http://viollenaki.pythonanywhere.com/get_movie_profit', params={'movie': movie_total}).json())\n",
    "                                                                              "
   ]
  }
 ],
 "metadata": {
  "kernelspec": {
   "display_name": "Python 3",
   "language": "python",
   "name": "python3"
  },
  "language_info": {
   "codemirror_mode": {
    "name": "ipython",
    "version": 3
   },
   "file_extension": ".py",
   "mimetype": "text/x-python",
   "name": "python",
   "nbconvert_exporter": "python",
   "pygments_lexer": "ipython3",
   "version": "3.9.0"
  }
 },
 "nbformat": 4,
 "nbformat_minor": 2
}
